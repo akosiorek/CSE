{
 "cells": [
  {
   "cell_type": "markdown",
   "metadata": {
    "collapsed": false
   },
   "source": [
    "# Implementation exercise: Linear Classification"
   ]
  },
  {
   "cell_type": "code",
   "execution_count": null,
   "metadata": {
    "collapsed": true
   },
   "outputs": [],
   "source": [
    "import numpy as np\n",
    "from sklearn import datasets\n",
    "import matplotlib.pyplot as plt\n",
    "%matplotlib inline  "
   ]
  },
  {
   "cell_type": "markdown",
   "metadata": {},
   "source": [
    "### Some helper functions for visualisation"
   ]
  },
  {
   "cell_type": "code",
   "execution_count": null,
   "metadata": {
    "collapsed": true
   },
   "outputs": [],
   "source": [
    "def plot_decision_boundary(X, Z, W=None, b=None):\n",
    "    fig, ax = plt.subplots(1, 1, figsize=(5, 5))\n",
    "    ax.scatter(X[:,0], X[:,1], c=Z, cmap=plt.cm.cool)\n",
    "    ax.set_autoscale_on(False)\n",
    "\n",
    "    a = - W[0, 0] / W[0, 1]\n",
    "    xx = np.linspace(-30, 30)\n",
    "    yy = a * xx - (b[0]) / W[0, 1]\n",
    "\n",
    "    ax.plot(xx, yy, 'k-', c=plt.cm.cool(1.0/3.0))"
   ]
  },
  {
   "cell_type": "markdown",
   "metadata": {},
   "source": [
    "### Dataset Loader"
   ]
  },
  {
   "cell_type": "code",
   "execution_count": null,
   "metadata": {
    "collapsed": true
   },
   "outputs": [],
   "source": [
    "def loadDataset(split, X=[] , XT=[], Z = [], ZT = []):\n",
    "    dataset = datasets.load_iris()\n",
    "    c = list(zip(dataset['data'], dataset['target']))\n",
    "    np.random.seed(224)\n",
    "    np.random.shuffle(c)\n",
    "    x, t = zip(*c)\n",
    "    sp = int(split*len(c))\n",
    "    X = x[:sp]\n",
    "    XT = x[sp:]\n",
    "    Z = t[:sp]\n",
    "    ZT = t[sp:]\n",
    "    names = ['Sepal. length', 'Sepal. width', 'Petal. length', 'Petal. width']\n",
    "    return np.array(X), np.array(XT), np.array(Z), np.array(ZT), names"
   ]
  },
  {
   "cell_type": "code",
   "execution_count": null,
   "metadata": {
    "collapsed": false
   },
   "outputs": [],
   "source": [
    "# prepare data\n",
    "split = 0.67\n",
    "X, XT, Z, ZT, names = loadDataset(split)\n",
    "\n",
    "# combine two of the 3 classes for a 2 class problem\n",
    "Z[Z==2] = 1\n",
    "ZT[ZT==2] = 1\n",
    "\n",
    "# only look at 2 dimensions of the input data for easy visualisation\n",
    "X = X[:,:2]\n",
    "XT = XT[:,:2]"
   ]
  },
  {
   "cell_type": "markdown",
   "metadata": {},
   "source": [
    "## Exercise 1: Calculate probability of class 1\n",
    "Compute the probability of class 1 given the data and the parameters.\n",
    "\n",
    "arguments:\n",
    "* *X*: data\n",
    "* *W*: weight matrix, part of the parameters\n",
    "* *b*: bias, part of the parameters\n",
    "\n",
    "returns:\n",
    "* *rate*: probabiliy of the predicted class 1"
   ]
  },
  {
   "cell_type": "code",
   "execution_count": null,
   "metadata": {
    "collapsed": true
   },
   "outputs": [],
   "source": [
    "def pred(X, W, b):\n",
    "    return np.empty((X.shape[0],1))\n",
    "\n"
   ]
  },
  {
   "cell_type": "markdown",
   "metadata": {},
   "source": [
    "## Exercise 2: Calculate the log-likelihood given the target\n",
    "Compute the logarithm of the likelihood for logistic regression. The negative log-likelihood is our loss function.\n",
    "\n",
    "arguments:\n",
    "* *X*: data\n",
    "* *Z*: target\n",
    "* *W*: weight matrix, part of the parameters\n",
    "* *b*: bias, part of the parameters\n",
    "\n",
    "returns:\n",
    "* *log likelihood*: logarithm of the likelihood"
   ]
  },
  {
   "cell_type": "code",
   "execution_count": null,
   "metadata": {
    "collapsed": true
   },
   "outputs": [],
   "source": [
    "def loglikelihood(X, Z, W, b):\n",
    "    return np.empty_like(Z)"
   ]
  },
  {
   "cell_type": "markdown",
   "metadata": {},
   "source": [
    "## Exercise 3: Implement the gradient of the loss/log-likelihood\n",
    "Compute the gradient of the loss with respect to the parameters\n",
    "\n",
    "arguments:\n",
    "* *X*: data\n",
    "* *Z*: target\n",
    "* *W*: weight matrix, part of the parameters\n",
    "* *b*: bias, part of the parameters\n",
    "\n",
    "returns:\n",
    "* *dLdW*: gradient of loss wrt to W\n",
    "* *dLdb*: gradient of loss wrt to b"
   ]
  },
  {
   "cell_type": "code",
   "execution_count": null,
   "metadata": {
    "collapsed": false
   },
   "outputs": [],
   "source": [
    "def grad(X, Z, W, b):\n",
    "    return np.empty_like(W), np.empty_like(b)"
   ]
  },
  {
   "cell_type": "markdown",
   "metadata": {},
   "source": [
    "## Exercise 4: Test everything\n",
    "Run the provied simple gradient descent algorithm to optimize the model parameters and plot the resuling decision boundary."
   ]
  },
  {
   "cell_type": "code",
   "execution_count": null,
   "metadata": {
    "collapsed": false
   },
   "outputs": [],
   "source": [
    "W = np.random.randn(1,2) * 0.01\n",
    "b = np.random.randn(1) * 0.01\n",
    "\n",
    "learning_rate = 0.001\n",
    "train_loss = []\n",
    "validation_loss = []\n",
    "\n",
    "for i in range(10000):\n",
    "    dLdW, dLdb = grad(X, Z, W, b)\n",
    "    \n",
    "    W += learning_rate * dLdW\n",
    "    b += learning_rate * dLdb\n",
    "    train_loss.append( - loglikelihood(X, Z, W, b).mean())\n",
    "\n",
    "_ = plt.plot(train_loss)"
   ]
  },
  {
   "cell_type": "markdown",
   "metadata": {},
   "source": [
    "### Decision boundary on the training set"
   ]
  },
  {
   "cell_type": "code",
   "execution_count": null,
   "metadata": {
    "collapsed": false
   },
   "outputs": [],
   "source": [
    "plot_decision_boundary(X, Z, W=W, b=b)"
   ]
  },
  {
   "cell_type": "markdown",
   "metadata": {},
   "source": [
    "### Decision boundary on the test set"
   ]
  },
  {
   "cell_type": "code",
   "execution_count": null,
   "metadata": {
    "collapsed": false
   },
   "outputs": [],
   "source": [
    "plot_decision_boundary(XT, ZT, W=W, b=b)"
   ]
  },
  {
   "cell_type": "code",
   "execution_count": null,
   "metadata": {
    "collapsed": true
   },
   "outputs": [],
   "source": []
  }
 ],
 "metadata": {
  "kernelspec": {
   "display_name": "Python 2",
   "language": "python",
   "name": "python2"
  },
  "language_info": {
   "codemirror_mode": {
    "name": "ipython",
    "version": 2
   },
   "file_extension": ".py",
   "mimetype": "text/x-python",
   "name": "python",
   "nbconvert_exporter": "python",
   "pygments_lexer": "ipython2",
   "version": "2.7.6"
  }
 },
 "nbformat": 4,
 "nbformat_minor": 0
}
